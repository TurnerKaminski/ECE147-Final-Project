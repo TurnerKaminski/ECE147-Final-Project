{
 "cells": [
  {
   "cell_type": "code",
   "execution_count": 7,
   "source": [
    "import os.path\n",
    "from collections import Counter\n",
    "\n",
    "import numpy as np\n",
    "\n",
    "\n",
    "data_dir = \"data\"\n",
    "X_test = np.load(os.path.join(data_dir, \"X_test.npy\"))\n",
    "y_test = np.load(os.path.join(data_dir, \"y_test.npy\"))\n",
    "person_test = np.load(os.path.join(data_dir, \"person_test.npy\")).squeeze(axis=1)\n",
    "X_train_valid = np.load(os.path.join(data_dir, \"X_train_valid.npy\"))\n",
    "y_train_valid = np.load(os.path.join(data_dir, \"y_train_valid.npy\"))\n",
    "person_train_valid = np.load(\n",
    "    os.path.join(data_dir, \"person_train_valid.npy\")\n",
    ").squeeze(axis=1)\n",
    "\n",
    "n_class = len(set(y_train_valid))\n",
    "min_y = min(y_train_valid)\n",
    "y_train_valid = y_train_valid - min_y\n",
    "y_test = y_test - min_y"
   ],
   "outputs": [],
   "metadata": {}
  },
  {
   "cell_type": "code",
   "execution_count": 8,
   "source": [
    "print ('Training/Valid data shape: {}'.format(X_train_valid.shape))\n",
    "print ('Test data shape: {}'. format (X_test.shape))\n",
    "print ('Training/Valid target shape: {}'.format(y_train_valid.shape))\n",
    "print ('Test target shape: {}'.format(y_test.shape))\n",
    "print ('Person train/valid shape: {}'.format(person_train_valid.shape))\n",
    "print ('Person test shape: {}'.format(person_test.shape))"
   ],
   "outputs": [
    {
     "output_type": "stream",
     "name": "stdout",
     "text": [
      "Training/Valid data shape: (2115, 22, 1000)\n",
      "Test data shape: (443, 22, 1000)\n",
      "Training/Valid target shape: (2115,)\n",
      "Test target shape: (443,)\n",
      "Person train/valid shape: (2115,)\n",
      "Person test shape: (443,)\n"
     ]
    }
   ],
   "metadata": {}
  },
  {
   "cell_type": "code",
   "execution_count": 9,
   "source": [
    "import random\n",
    "\n",
    "import torch\n",
    "\n",
    "\n",
    "seed = 1\n",
    "random.seed(seed)\n",
    "np.random.seed(seed)\n",
    "torch.manual_seed(seed)\n",
    "\n",
    "device = torch.device(\"mps\")\n",
    "device"
   ],
   "outputs": [
    {
     "output_type": "execute_result",
     "data": {
      "text/plain": [
       "device(type='mps')"
      ]
     },
     "metadata": {},
     "execution_count": 9
    }
   ],
   "metadata": {}
  },
  {
   "cell_type": "code",
   "execution_count": 10,
   "source": [
    "from models import *\n",
    "from trainer import *\n",
    "\n",
    "n_trials = 5"
   ],
   "outputs": [],
   "metadata": {}
  },
  {
   "cell_type": "code",
   "execution_count": 11,
   "source": [
    "s1_indices_train = [i for i, s in enumerate(person_train_valid) if s == 1]\n",
    "s1_indices_test = [i for i, s in enumerate(person_test) if s == 1]\n",
    "X_train_valid_s1 = X_train_valid[s1_indices_train]\n",
    "y_train_valid_s1 = y_train_valid[s1_indices_train]\n",
    "X_test_s1 = X_test[s1_indices_test]\n",
    "y_test_s1 = y_test[s1_indices_test]"
   ],
   "outputs": [],
   "metadata": {}
  },
  {
   "cell_type": "code",
   "execution_count": 13,
   "source": [
    "valid_accs = []\n",
    "test_accs = []\n",
    "\n",
    "for i in range(n_trials):\n",
    "    cnn = CNN(input_size=X_train_valid_s1.shape[1:], N=n_class).to(device)\n",
    "    valid_acc = fit(\n",
    "        cnn, X_train_valid_s1, y_train_valid_s1, device, epochs=50, random_state=i, print_acc=True\n",
    "    )\n",
    "    test_acc, _ = evaluate(cnn, X_test_s1, y_test_s1, device)\n",
    "    valid_accs.append(valid_acc)\n",
    "    test_accs.append(test_acc)\n",
    "\n",
    "round(np.mean(valid_accs), 5), round(np.mean(test_accs), 5)"
   ],
   "outputs": [
    {
     "output_type": "display_data",
     "data": {
      "text/plain": [
       "  0%|          | 0/50 [00:00<?, ?it/s]"
      ],
      "application/vnd.jupyter.widget-view+json": {
       "version_major": 2,
       "version_minor": 0,
       "model_id": "a2fbf182052d435d9068d0835b846e89"
      }
     },
     "metadata": {}
    },
    {
     "output_type": "stream",
     "name": "stdout",
     "text": [
      "0.0\n",
      "train_acc=0.0, valid_acc=0.0\n",
      "0.0\n",
      "train_acc=0.0, valid_acc=0.0\n",
      "0.0\n",
      "train_acc=0.0, valid_acc=0.0\n",
      "0.0\n",
      "train_acc=0.0, valid_acc=0.0\n",
      "0.0\n",
      "train_acc=0.0, valid_acc=0.0\n",
      "0.0\n",
      "train_acc=0.0, valid_acc=0.0\n",
      "0.0\n",
      "train_acc=0.0, valid_acc=0.0\n",
      "0.0\n",
      "train_acc=0.0, valid_acc=0.0\n",
      "0.0\n",
      "train_acc=0.0, valid_acc=0.0\n",
      "0.0\n",
      "train_acc=0.0, valid_acc=0.0\n",
      "0.0\n",
      "train_acc=0.0, valid_acc=0.0\n",
      "0.0\n",
      "train_acc=0.0, valid_acc=0.0\n",
      "0.0\n",
      "train_acc=0.0, valid_acc=0.0\n",
      "0.0\n",
      "train_acc=0.0, valid_acc=0.0\n",
      "0.0\n",
      "train_acc=0.0, valid_acc=0.0\n",
      "0.0\n",
      "train_acc=0.0, valid_acc=0.0\n",
      "0.0\n",
      "train_acc=0.0, valid_acc=0.0\n",
      "0.0\n",
      "train_acc=0.0, valid_acc=0.0\n",
      "0.0\n",
      "train_acc=0.0, valid_acc=0.0\n",
      "0.0\n",
      "train_acc=0.0, valid_acc=0.0\n",
      "0.0\n",
      "train_acc=0.0, valid_acc=0.0\n",
      "0.0\n",
      "train_acc=0.0, valid_acc=0.0\n",
      "0.0\n",
      "train_acc=0.0, valid_acc=0.0\n",
      "0.0\n",
      "train_acc=0.0, valid_acc=0.0\n",
      "0.0\n",
      "train_acc=0.0, valid_acc=0.0\n",
      "0.0\n",
      "train_acc=0.0, valid_acc=0.0\n",
      "0.0\n",
      "train_acc=0.0, valid_acc=0.0\n",
      "0.0\n",
      "train_acc=0.0, valid_acc=0.0\n",
      "0.0\n",
      "train_acc=0.0, valid_acc=0.0\n",
      "0.0\n",
      "train_acc=0.0, valid_acc=0.0\n",
      "0.0\n",
      "train_acc=0.0, valid_acc=0.0\n",
      "0.0\n",
      "train_acc=0.0, valid_acc=0.0\n",
      "0.0\n",
      "train_acc=0.0, valid_acc=0.0\n",
      "0.0\n",
      "train_acc=0.0, valid_acc=0.0\n",
      "0.0\n",
      "train_acc=0.0, valid_acc=0.0\n",
      "0.0\n",
      "train_acc=0.0, valid_acc=0.0\n",
      "0.0\n",
      "train_acc=0.0, valid_acc=0.0\n",
      "0.0\n",
      "train_acc=0.0, valid_acc=0.0\n",
      "0.0\n",
      "train_acc=0.0, valid_acc=0.0\n",
      "0.0\n",
      "train_acc=0.0, valid_acc=0.0\n",
      "0.0\n",
      "train_acc=0.0, valid_acc=0.0\n",
      "0.0\n",
      "train_acc=0.0, valid_acc=0.0\n",
      "0.0\n",
      "train_acc=0.0, valid_acc=0.0\n",
      "0.0\n",
      "train_acc=0.0, valid_acc=0.0\n",
      "0.0\n",
      "train_acc=0.0, valid_acc=0.0\n",
      "0.0\n",
      "train_acc=0.0, valid_acc=0.0\n",
      "0.0\n",
      "train_acc=0.0, valid_acc=0.0\n",
      "0.0\n",
      "train_acc=0.0, valid_acc=0.0\n",
      "0.0\n",
      "train_acc=0.0, valid_acc=0.0\n",
      "0.0\n",
      "train_acc=0.0, valid_acc=0.0\n",
      "Best valid accuracy: 0\n"
     ]
    },
    {
     "output_type": "error",
     "ename": "ValueError",
     "evalue": "too many values to unpack (expected 2)",
     "traceback": [
      "\u001b[0;31m---------------------------------------------------------------------------\u001b[0m",
      "\u001b[0;31mValueError\u001b[0m                                Traceback (most recent call last)",
      "Cell \u001b[0;32mIn[13], line 9\u001b[0m\n\u001b[1;32m      5\u001b[0m cnn \u001b[38;5;241m=\u001b[39m CNN(input_size\u001b[38;5;241m=\u001b[39mX_train_valid_s1\u001b[38;5;241m.\u001b[39mshape[\u001b[38;5;241m1\u001b[39m:], N\u001b[38;5;241m=\u001b[39m\u001b[38;5;28mlen\u001b[39m(\u001b[38;5;28mset\u001b[39m(Y_train_valid)))\u001b[38;5;241m.\u001b[39mto(device)\n\u001b[1;32m      6\u001b[0m valid_acc \u001b[38;5;241m=\u001b[39m fit(\n\u001b[1;32m      7\u001b[0m     cnn, X_train_valid_s1, y_train_valid_s1, device, epochs\u001b[38;5;241m=\u001b[39m\u001b[38;5;241m50\u001b[39m, random_state\u001b[38;5;241m=\u001b[39mi, print_acc\u001b[38;5;241m=\u001b[39m\u001b[38;5;28;01mTrue\u001b[39;00m\n\u001b[1;32m      8\u001b[0m )\n\u001b[0;32m----> 9\u001b[0m test_acc, _ \u001b[38;5;241m=\u001b[39m \u001b[43mevaluate\u001b[49m\u001b[43m(\u001b[49m\u001b[43mcnn\u001b[49m\u001b[43m,\u001b[49m\u001b[43m \u001b[49m\u001b[43mX_test_s1\u001b[49m\u001b[43m,\u001b[49m\u001b[43m \u001b[49m\u001b[43my_test_s1\u001b[49m\u001b[43m,\u001b[49m\u001b[43m \u001b[49m\u001b[43mdevice\u001b[49m\u001b[43m)\u001b[49m\n\u001b[1;32m     10\u001b[0m valid_accs\u001b[38;5;241m.\u001b[39mappend(valid_acc)\n\u001b[1;32m     11\u001b[0m test_accs\u001b[38;5;241m.\u001b[39mappend(test_acc)\n",
      "File \u001b[0;32m~/Desktop/GitHub/ECE147-Final-Project/trainer.py:134\u001b[0m, in \u001b[0;36mevaluate\u001b[0;34m(model, dataloader, device, batch_size)\u001b[0m\n\u001b[1;32m    131\u001b[0m correct \u001b[38;5;241m=\u001b[39m total \u001b[38;5;241m=\u001b[39m \u001b[38;5;241m0\u001b[39m \n\u001b[1;32m    132\u001b[0m y_pred \u001b[38;5;241m=\u001b[39m []\n\u001b[0;32m--> 134\u001b[0m \u001b[38;5;28;01mfor\u001b[39;00m batch_X, batch_y \u001b[38;5;129;01min\u001b[39;00m dataloader:\n\u001b[1;32m    136\u001b[0m     batch_X \u001b[38;5;241m=\u001b[39m batch_X\u001b[38;5;241m.\u001b[39mto(device) \n\u001b[1;32m    137\u001b[0m     batch_y \u001b[38;5;241m=\u001b[39m batch_y\u001b[38;5;241m.\u001b[39mto(device)\n",
      "\u001b[0;31mValueError\u001b[0m: too many values to unpack (expected 2)"
     ]
    }
   ],
   "metadata": {}
  },
  {
   "cell_type": "code",
   "execution_count": null,
   "source": [],
   "outputs": [],
   "metadata": {}
  }
 ],
 "metadata": {
  "orig_nbformat": 4,
  "language_info": {
   "name": "python",
   "version": "3.10.13",
   "mimetype": "text/x-python",
   "codemirror_mode": {
    "name": "ipython",
    "version": 3
   },
   "pygments_lexer": "ipython3",
   "nbconvert_exporter": "python",
   "file_extension": ".py"
  },
  "kernelspec": {
   "name": "python3",
   "display_name": "Python 3.10.13 64-bit ('base': conda)"
  },
  "interpreter": {
   "hash": "cc54b9e43af7a0c7fb4d06dbdd44e5ca6fb86b76a909759481753182cba9a8da"
  }
 },
 "nbformat": 4,
 "nbformat_minor": 2
}