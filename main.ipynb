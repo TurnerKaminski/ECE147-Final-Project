{
 "cells": [
  {
   "cell_type": "code",
   "execution_count": 1,
   "source": [
    "import os.path\n",
    "import numpy as np\n",
    "\n",
    "# Load in data, this assumed you have a folder in env named data\n",
    "data_dir = \"data\"\n",
    "X_test = np.load(os.path.join(data_dir, \"X_test.npy\"))\n",
    "y_test = np.load(os.path.join(data_dir, \"y_test.npy\"))\n",
    "person_test = np.load(os.path.join(data_dir, \"person_test.npy\")).squeeze(axis=1)\n",
    "X_train_valid = np.load(os.path.join(data_dir, \"X_train_valid.npy\"))\n",
    "y_train_valid = np.load(os.path.join(data_dir, \"y_train_valid.npy\"))\n",
    "person_train_valid = np.load(os.path.join(data_dir, \"person_train_valid.npy\")).squeeze(axis=1)\n",
    "\n",
    "# Predefine some useful variables and fix data a bit\n",
    "n_class = len(set(y_train_valid))\n",
    "n_trials = 5\n",
    "min_y = min(y_train_valid)\n",
    "y_train_valid = y_train_valid - min_y\n",
    "y_test = y_test - min_y"
   ],
   "outputs": [],
   "metadata": {}
  },
  {
   "cell_type": "code",
   "execution_count": 2,
   "source": [
    "# Validate data loaded in correctly and print shapes\n",
    "print ('Training/Valid data shape: {}'.format(X_train_valid.shape))\n",
    "print ('Test data shape: {}'. format (X_test.shape))\n",
    "print ('Training/Valid target shape: {}'.format(y_train_valid.shape))\n",
    "print ('Test target shape: {}'.format(y_test.shape))\n",
    "print ('Person train/valid shape: {}'.format(person_train_valid.shape))\n",
    "print ('Person test shape: {}'.format(person_test.shape))"
   ],
   "outputs": [
    {
     "output_type": "stream",
     "name": "stdout",
     "text": [
      "Training/Valid data shape: (2115, 22, 1000)\n",
      "Test data shape: (443, 22, 1000)\n",
      "Training/Valid target shape: (2115,)\n",
      "Test target shape: (443,)\n",
      "Person train/valid shape: (2115,)\n",
      "Person test shape: (443,)\n"
     ]
    }
   ],
   "metadata": {}
  },
  {
   "cell_type": "code",
   "execution_count": 3,
   "source": [
    "import random\n",
    "import torch\n",
    "\n",
    "# Define random seed so that we can reproduce results\n",
    "seed = 1\n",
    "random.seed(seed)\n",
    "np.random.seed(seed)\n",
    "torch.manual_seed(seed)\n",
    "\n",
    "# This is for macbook M1, if you have intel I think you use cuda not mps\n",
    "# Research what works for your device and change the torch.device\n",
    "device = torch.device(\"mps\")\n",
    "device"
   ],
   "outputs": [
    {
     "output_type": "execute_result",
     "data": {
      "text/plain": [
       "device(type='mps')"
      ]
     },
     "metadata": {},
     "execution_count": 3
    }
   ],
   "metadata": {}
  },
  {
   "cell_type": "code",
   "execution_count": 4,
   "source": [
    "# Import the models and functions\n",
    "from models import *\n",
    "from trainer import *"
   ],
   "outputs": [],
   "metadata": {}
  },
  {
   "cell_type": "code",
   "execution_count": 5,
   "source": [
    "# Set up data sets\n",
    "s1_indices_train = [i for i, s in enumerate(person_train_valid) if s == 1]\n",
    "s1_indices_test = [i for i, s in enumerate(person_test) if s == 1]\n",
    "X_train_valid_s1 = X_train_valid[s1_indices_train]\n",
    "y_train_valid_s1 = y_train_valid[s1_indices_train]\n",
    "X_test_s1 = X_test[s1_indices_test]\n",
    "y_test_s1 = y_test[s1_indices_test]\n",
    "\n",
    "# Make dataloader test set for the single subject\n",
    "# Convert data to tensors\n",
    "X_tensor = torch.FloatTensor(X_test_s1)\n",
    "y_tensor = torch.LongTensor(y_test_s1)\n",
    "\n",
    "# Combine X and y into a TensorDataset\n",
    "dataset = TensorDataset(X_tensor, y_tensor)\n",
    "\n",
    "# Prepare dataloaders\n",
    "test_dataloader = DataLoader(dataset, batch_size=256, shuffle=False)"
   ],
   "outputs": [],
   "metadata": {}
  },
  {
   "cell_type": "markdown",
   "source": [
    "# Train for the single subject data\n",
    "Currently using low epochs just for testing purposes"
   ],
   "metadata": {}
  },
  {
   "cell_type": "markdown",
   "source": [
    "## CNN"
   ],
   "metadata": {}
  },
  {
   "cell_type": "code",
   "execution_count": null,
   "source": [
    "valid_accs = []\n",
    "test_accs = []\n",
    "\n",
    "for i in range(n_trials):\n",
    "    cnn = CNN(input_size=X_train_valid_s1.shape[1:], N=n_class).to(device)\n",
    "    valid_acc = fit(cnn, X_train_valid_s1, y_train_valid_s1, device, epochs=10)\n",
    "    test_acc, _ = evaluate(cnn, test_dataloader, device)\n",
    "    valid_accs.append(valid_acc)\n",
    "    test_accs.append(test_acc)\n",
    "\n",
    "round(np.mean(valid_accs), 5), round(np.mean(test_accs), 5)"
   ],
   "outputs": [],
   "metadata": {}
  },
  {
   "cell_type": "markdown",
   "source": [
    "## RNN (LSTM)"
   ],
   "metadata": {}
  },
  {
   "cell_type": "code",
   "execution_count": null,
   "source": [
    "valid_accs = []\n",
    "test_accs = []\n",
    "\n",
    "for i in range(n_trials):\n",
    "    rnn = LSTM().to(device)\n",
    "    valid_acc = fit(rnn, X_train_valid_s1, y_train_valid_s1, device, epochs=10)\n",
    "    test_acc, _ = evaluate(rnn, test_dataloader, device)\n",
    "    valid_accs.append(valid_acc)\n",
    "    test_accs.append(test_acc)\n",
    "\n",
    "round(np.mean(valid_accs), 5), round(np.mean(test_accs), 5)"
   ],
   "outputs": [],
   "metadata": {}
  },
  {
   "cell_type": "markdown",
   "source": [
    "## Another RNN (GRU)\n",
    "\n",
    "GRU takes super long to train, not entirely sure why\n",
    "\n",
    "I even cut out a fc layer to speed it up, and increase lr"
   ],
   "metadata": {}
  },
  {
   "cell_type": "code",
   "execution_count": null,
   "source": [
    "valid_accs = []\n",
    "test_accs = []\n",
    "\n",
    "for i in range(n_trials):\n",
    "    gru = GRU().to(device)\n",
    "    valid_acc = fit(gru, X_train_valid_s1, y_train_valid_s1, device, epochs=10)\n",
    "    test_acc, _ = evaluate(gru, test_dataloader, device)\n",
    "    valid_accs.append(valid_acc)\n",
    "    test_accs.append(test_acc)\n",
    "\n",
    "round(np.mean(valid_accs), 5), round(np.mean(test_accs), 5)"
   ],
   "outputs": [],
   "metadata": {}
  },
  {
   "cell_type": "markdown",
   "source": [
    "# CNN + RNN (LSTM)"
   ],
   "metadata": {}
  },
  {
   "cell_type": "code",
   "execution_count": 6,
   "source": [
    "valid_accs = []\n",
    "test_accs = []\n",
    "\n",
    "for i in range(n_trials):\n",
    "    crnn = CNN_RNN(output_size=n_class,).to(device)\n",
    "    valid_acc = fit(crnn, X_train_valid_s1, y_train_valid_s1, device, epochs=10)\n",
    "    test_acc, _ = evaluate(crnn, test_dataloader, device)\n",
    "    valid_accs.append(valid_acc)\n",
    "    test_accs.append(test_acc)\n",
    "\n",
    "round(np.mean(valid_accs), 5), round(np.mean(test_accs), 5)"
   ],
   "outputs": [
    {
     "output_type": "display_data",
     "data": {
      "text/plain": [
       "  0%|          | 0/10 [00:00<?, ?it/s]"
      ],
      "application/vnd.jupyter.widget-view+json": {
       "version_major": 2,
       "version_minor": 0,
       "model_id": "4aa82e4513d840a498a7449c11e87cd6"
      }
     },
     "metadata": {}
    },
    {
     "output_type": "stream",
     "name": "stdout",
     "text": [
      "Best valid accuracy: 0.27083\n"
     ]
    },
    {
     "output_type": "display_data",
     "data": {
      "text/plain": [
       "  0%|          | 0/10 [00:00<?, ?it/s]"
      ],
      "application/vnd.jupyter.widget-view+json": {
       "version_major": 2,
       "version_minor": 0,
       "model_id": "fe4cf9ec2e2d48ff987f7a0eb8aab628"
      }
     },
     "metadata": {}
    }
   ],
   "metadata": {}
  },
  {
   "cell_type": "markdown",
   "source": [],
   "metadata": {}
  },
  {
   "cell_type": "markdown",
   "source": [],
   "metadata": {}
  }
 ],
 "metadata": {
  "orig_nbformat": 4,
  "language_info": {
   "name": "python",
   "version": "3.10.13",
   "mimetype": "text/x-python",
   "codemirror_mode": {
    "name": "ipython",
    "version": 3
   },
   "pygments_lexer": "ipython3",
   "nbconvert_exporter": "python",
   "file_extension": ".py"
  },
  "kernelspec": {
   "name": "python3",
   "display_name": "Python 3.10.13 64-bit ('base': conda)"
  },
  "interpreter": {
   "hash": "cc54b9e43af7a0c7fb4d06dbdd44e5ca6fb86b76a909759481753182cba9a8da"
  }
 },
 "nbformat": 4,
 "nbformat_minor": 2
}