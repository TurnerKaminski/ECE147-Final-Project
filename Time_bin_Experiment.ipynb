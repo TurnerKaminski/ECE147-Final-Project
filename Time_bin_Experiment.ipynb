{
 "cells": [
  {
   "cell_type": "code",
   "execution_count": 1,
   "metadata": {},
   "outputs": [],
   "source": [
    "%load_ext autoreload\n",
    "%autoreload 2\n",
    "\n",
    "import os.path\n",
    "import numpy as np\n",
    "\n",
    "# Load in data, this assumed you have a folder in env named data\n",
    "data_dir = \"data\"\n",
    "X_test = np.load(os.path.join(data_dir, \"X_test.npy\"))\n",
    "y_test = np.load(os.path.join(data_dir, \"y_test.npy\"))\n",
    "person_test = np.load(os.path.join(data_dir, \"person_test.npy\")).squeeze(axis=1)\n",
    "X_train_valid = np.load(os.path.join(data_dir, \"X_train_valid.npy\"))\n",
    "y_train_valid = np.load(os.path.join(data_dir, \"y_train_valid.npy\"))\n",
    "person_train_valid = np.load(os.path.join(data_dir, \"person_train_valid.npy\")).squeeze(axis=1)\n",
    "\n",
    "# Predefine some useful variables and fix data a bit\n",
    "n_class = len(set(y_train_valid))\n",
    "n_trials = 5\n",
    "min_y = min(y_train_valid)\n",
    "y_train_valid = y_train_valid - min_y\n",
    "y_test = y_test - min_y"
   ]
  },
  {
   "cell_type": "code",
   "execution_count": 2,
   "metadata": {},
   "outputs": [
    {
     "name": "stdout",
     "output_type": "stream",
     "text": [
      "Training/Valid data shape: (2115, 22, 1000)\n",
      "Test data shape: (443, 22, 1000)\n",
      "Training/Valid target shape: (2115,)\n",
      "Test target shape: (443,)\n",
      "Person train/valid shape: (2115,)\n",
      "Person test shape: (443,)\n"
     ]
    }
   ],
   "source": [
    "# Validate data loaded in correctly and print shapes\n",
    "print ('Training/Valid data shape: {}'.format(X_train_valid.shape))\n",
    "print ('Test data shape: {}'. format (X_test.shape))\n",
    "print ('Training/Valid target shape: {}'.format(y_train_valid.shape))\n",
    "print ('Test target shape: {}'.format(y_test.shape))\n",
    "print ('Person train/valid shape: {}'.format(person_train_valid.shape))\n",
    "print ('Person test shape: {}'.format(person_test.shape))"
   ]
  },
  {
   "cell_type": "code",
   "execution_count": 3,
   "metadata": {},
   "outputs": [
    {
     "data": {
      "text/plain": [
       "device(type='cuda')"
      ]
     },
     "execution_count": 3,
     "metadata": {},
     "output_type": "execute_result"
    }
   ],
   "source": [
    "import random\n",
    "import torch\n",
    "\n",
    "# Define random seed so that we can reproduce results\n",
    "seed = 1\n",
    "random.seed(seed)\n",
    "np.random.seed(seed)\n",
    "torch.manual_seed(seed)\n",
    "\n",
    "# This is for macbook M1, if you have intel I think you use cuda not mps\n",
    "# Research what works for your device and change the torch.device\n",
    "device = torch.device(\"cuda\")\n",
    "device"
   ]
  },
  {
   "cell_type": "code",
   "execution_count": 4,
   "metadata": {},
   "outputs": [],
   "source": [
    "# Import the models and functions\n",
    "from models import *\n",
    "from trainer import *\n",
    "import matplotlib.pyplot as plt\n",
    "import time"
   ]
  },
  {
   "cell_type": "code",
   "execution_count": 5,
   "metadata": {},
   "outputs": [],
   "source": [
    "# Make data loader for all subjects\n",
    "\n",
    "# Convert data to tensors\n",
    "X_tensor_full = torch.FloatTensor(X_test)\n",
    "y_tensor_full = torch.LongTensor(y_test)\n",
    "\n",
    "# Combine X and y into a TensorDataset\n",
    "dataset_full = TensorDataset(X_tensor_full, y_tensor_full)\n",
    "\n",
    "# Prepare dataloaders\n",
    "test_dataloader_full = DataLoader(dataset_full, batch_size=256, shuffle=False)"
   ]
  },
  {
   "cell_type": "markdown",
   "metadata": {},
   "source": [
    "## Test Accuracy v.s. Time Bins Used (100 - 1000, 100 bin steps)"
   ]
  },
  {
   "cell_type": "code",
   "execution_count": 6,
   "metadata": {},
   "outputs": [
    {
     "name": "stdout",
     "output_type": "stream",
     "text": [
      "l=100\n"
     ]
    },
    {
     "data": {
      "application/vnd.jupyter.widget-view+json": {
       "model_id": "5a2be813f342433b8a617b4622a4f098",
       "version_major": 2,
       "version_minor": 0
      },
      "text/plain": [
       "  0%|          | 0/500 [00:00<?, ?it/s]"
      ]
     },
     "metadata": {},
     "output_type": "display_data"
    },
    {
     "name": "stdout",
     "output_type": "stream",
     "text": [
      "Best valid accuracy: 0.5792\n",
      "l=200\n"
     ]
    },
    {
     "data": {
      "application/vnd.jupyter.widget-view+json": {
       "model_id": "f41be496166f451db37a4940ddfcd71a",
       "version_major": 2,
       "version_minor": 0
      },
      "text/plain": [
       "  0%|          | 0/500 [00:00<?, ?it/s]"
      ]
     },
     "metadata": {},
     "output_type": "display_data"
    },
    {
     "name": "stdout",
     "output_type": "stream",
     "text": [
      "Best valid accuracy: 0.64539\n",
      "l=300\n"
     ]
    },
    {
     "data": {
      "application/vnd.jupyter.widget-view+json": {
       "model_id": "f4213bf871e046d1b5e65f5eeaf61fec",
       "version_major": 2,
       "version_minor": 0
      },
      "text/plain": [
       "  0%|          | 0/500 [00:00<?, ?it/s]"
      ]
     },
     "metadata": {},
     "output_type": "display_data"
    },
    {
     "name": "stdout",
     "output_type": "stream",
     "text": [
      "Best valid accuracy: 0.68558\n",
      "l=400\n"
     ]
    },
    {
     "data": {
      "application/vnd.jupyter.widget-view+json": {
       "model_id": "bef6570211014f3c9f83a8128f5c3b68",
       "version_major": 2,
       "version_minor": 0
      },
      "text/plain": [
       "  0%|          | 0/500 [00:00<?, ?it/s]"
      ]
     },
     "metadata": {},
     "output_type": "display_data"
    },
    {
     "name": "stdout",
     "output_type": "stream",
     "text": [
      "Best valid accuracy: 0.74468\n",
      "l=500\n"
     ]
    },
    {
     "data": {
      "application/vnd.jupyter.widget-view+json": {
       "model_id": "d0fe39f216184b4c89fe77abcc30c7b5",
       "version_major": 2,
       "version_minor": 0
      },
      "text/plain": [
       "  0%|          | 0/500 [00:00<?, ?it/s]"
      ]
     },
     "metadata": {},
     "output_type": "display_data"
    },
    {
     "name": "stdout",
     "output_type": "stream",
     "text": [
      "Best valid accuracy: 0.72577\n",
      "l=600\n"
     ]
    },
    {
     "data": {
      "application/vnd.jupyter.widget-view+json": {
       "model_id": "4469c9be56cb44f8ac685491701690ef",
       "version_major": 2,
       "version_minor": 0
      },
      "text/plain": [
       "  0%|          | 0/500 [00:00<?, ?it/s]"
      ]
     },
     "metadata": {},
     "output_type": "display_data"
    },
    {
     "name": "stdout",
     "output_type": "stream",
     "text": [
      "Best valid accuracy: 0.74468\n",
      "l=700\n"
     ]
    },
    {
     "data": {
      "application/vnd.jupyter.widget-view+json": {
       "model_id": "677b66cb12284903a9b51c28142ff918",
       "version_major": 2,
       "version_minor": 0
      },
      "text/plain": [
       "  0%|          | 0/500 [00:00<?, ?it/s]"
      ]
     },
     "metadata": {},
     "output_type": "display_data"
    },
    {
     "name": "stdout",
     "output_type": "stream",
     "text": [
      "Best valid accuracy: 0.71631\n",
      "l=800\n"
     ]
    },
    {
     "data": {
      "application/vnd.jupyter.widget-view+json": {
       "model_id": "be3281fd46c6453dbac05d117a4c8fd8",
       "version_major": 2,
       "version_minor": 0
      },
      "text/plain": [
       "  0%|          | 0/500 [00:00<?, ?it/s]"
      ]
     },
     "metadata": {},
     "output_type": "display_data"
    },
    {
     "name": "stdout",
     "output_type": "stream",
     "text": [
      "Best valid accuracy: 0.70922\n",
      "l=900\n"
     ]
    },
    {
     "data": {
      "application/vnd.jupyter.widget-view+json": {
       "model_id": "7446f46b6b554f4e996cf266b37e1cd4",
       "version_major": 2,
       "version_minor": 0
      },
      "text/plain": [
       "  0%|          | 0/500 [00:00<?, ?it/s]"
      ]
     },
     "metadata": {},
     "output_type": "display_data"
    },
    {
     "name": "stdout",
     "output_type": "stream",
     "text": [
      "Best valid accuracy: 0.68322\n",
      "l=1000\n"
     ]
    },
    {
     "data": {
      "application/vnd.jupyter.widget-view+json": {
       "model_id": "cc595b347fa9422ab9571dec2b02f62a",
       "version_major": 2,
       "version_minor": 0
      },
      "text/plain": [
       "  0%|          | 0/500 [00:00<?, ?it/s]"
      ]
     },
     "metadata": {},
     "output_type": "display_data"
    },
    {
     "name": "stdout",
     "output_type": "stream",
     "text": [
      "Best valid accuracy: 0.7305\n"
     ]
    }
   ],
   "source": [
    "ls = np.arange(100, 1001, 100)\n",
    "train_accs_sweep = []\n",
    "valid_accs_sweep = []\n",
    "test_accs_sweep = []\n",
    "times_sweep = []\n",
    "\n",
    "for l in ls:\n",
    "    print(f\"{l=}\")\n",
    "    X_train_valid_sub = X_train_valid[:, :, :l]\n",
    "    X_test_sub = X_test[:, :, :l]\n",
    "     \n",
    "    # make data loader\n",
    "    # Convert data to tensors\n",
    "    X_tensor_sub = torch.FloatTensor(X_test_sub)\n",
    "    y_tensor_sub = torch.LongTensor(y_test)\n",
    "\n",
    "    # Combine X and y into a TensorDataset\n",
    "    dataset_sub = TensorDataset(X_tensor_sub, y_tensor_sub)\n",
    "\n",
    "    # Prepare dataloaders\n",
    "    test_dataloader_sub= DataLoader(dataset_sub, batch_size=256, shuffle=False)\n",
    "\n",
    "    # CNN\n",
    "    start = time.time()\n",
    "    cnn_sub = CNN(input_size=X_train_valid_sub.shape[1:], N=n_class).to(device)\n",
    "    valid_acc, trains, valids = fit(cnn_sub, X_train_valid_sub, y_train_valid, device, epochs=500)\n",
    "    test_acc, _ = evaluate(cnn_sub, test_dataloader_sub, device)\n",
    "    end = time.time()\n",
    "    train_accs_sweep.append(trains)\n",
    "    valid_accs_sweep.append(valids)\n",
    "    test_accs_sweep.append(test_acc)\n",
    "    times_sweep.append(end-start)"
   ]
  },
  {
   "cell_type": "code",
   "execution_count": 7,
   "metadata": {},
   "outputs": [],
   "source": [
    "np.save('Time_bin_data/train_accs_sweep.npy', train_accs_sweep)\n",
    "np.save('Time_bin_data/valid_accs_sweep.npy', valid_accs_sweep)\n",
    "np.save('Time_bin_data/test_accs_sweep.npy', test_accs_sweep)\n",
    "np.save('Time_bin_data/times_sweep.npy', times_sweep)"
   ]
  },
  {
   "cell_type": "code",
   "execution_count": null,
   "metadata": {},
   "outputs": [],
   "source": [
    "# Directly run this block instead of above sweep if opening this notebook fresh\n",
    "\n",
    "train_accs_sweep = np.load('Time_bin_data/train_accs_sweep.npy')\n",
    "valid_accs_sweep = np.load('Time_bin_data/valid_accs_sweep.npy')\n",
    "test_accs_sweep = np.load('Time_bin_data/test_accs_sweep.npy')\n",
    "times_sweep = np.load('Time_bin_data/times_sweep.npy')"
   ]
  },
  {
   "cell_type": "code",
   "execution_count": 139,
   "metadata": {},
   "outputs": [
    {
     "data": {
      "image/png": "[encoded data removed]",
      "text/plain": [
       "<Figure size 640x480 with 1 Axes>"
      ]
     },
     "metadata": {},
     "output_type": "display_data"
    },
    {
     "name": "stdout",
     "output_type": "stream",
     "text": [
      "[0.52822, 0.65914, 0.71558, 0.70429, 0.71106, 0.71332, 0.71783, 0.69977, 0.68623, 0.68172]\n"
     ]
    }
   ],
   "source": [
    "ls = np.arange(100, 1001, 100)\n",
    "plt.figure()\n",
    "plt.plot(ls, [np.max(x) for x in train_accs_sweep], 'go-')\n",
    "plt.plot(ls, [np.max(x) for x in valid_accs_sweep], 'bo-')\n",
    "plt.plot(ls, test_accs_sweep, 'ro-')\n",
    "plt.title(\"Various Accuracies v.s. Time Bin Count (Single Sweep)\")\n",
    "plt.xticks(ls)\n",
    "plt.xlabel('Time Bin (#)')\n",
    "plt.ylabel('Accuracy')\n",
    "plt.legend(['Peak Training Accuracy', 'Peak Validation Accuracy', 'Test Accuracy'])\n",
    "plt.show()\n",
    "print(test_accs_sweep)"
   ]
  },
  {
   "cell_type": "code",
   "execution_count": 9,
   "metadata": {},
   "outputs": [
    {
     "data": {
      "text/plain": [
       "Text(0.5, 1.0, 'Total Training Time v.s. Time Bin Count')"
      ]
     },
     "execution_count": 9,
     "metadata": {},
     "output_type": "execute_result"
    },
    {
     "data": {
      "image/png": "[encoded data removed]",
      "text/plain": [
       "<Figure size 640x480 with 1 Axes>"
      ]
     },
     "metadata": {},
     "output_type": "display_data"
    }
   ],
   "source": [
    "plt.figure()\n",
    "plt.plot(ls, times_sweep, 'ro-')\n",
    "plt.ylabel(\"Time elapsed (s)\")\n",
    "plt.xlabel(\"Time bin (#)\")\n",
    "plt.title(\"Total Training Time v.s. Time Bin Count\")"
   ]
  },
  {
   "cell_type": "markdown",
   "metadata": {},
   "source": [
    "## Statistical Analysis on Effective Range (300, 400, 500, 600, 700) x10 Each"
   ]
  },
  {
   "cell_type": "code",
   "execution_count": 11,
   "metadata": {},
   "outputs": [],
   "source": [
    "train_accs_focus = []\n",
    "valid_accs_focus = []\n",
    "test_accs_focus = []\n",
    "times_focus = []\n",
    "num_trials = 10"
   ]
  },
  {
   "cell_type": "markdown",
   "metadata": {},
   "source": [
    "### L = 300"
   ]
  },
  {
   "cell_type": "code",
   "execution_count": 13,
   "metadata": {},
   "outputs": [
    {
     "data": {
      "application/vnd.jupyter.widget-view+json": {
       "model_id": "92746b7ab64e49e48b4bf80d942023ae",
       "version_major": 2,
       "version_minor": 0
      },
      "text/plain": [
       "  0%|          | 0/300 [00:00<?, ?it/s]"
      ]
     },
     "metadata": {},
     "output_type": "display_data"
    },
    {
     "name": "stdout",
     "output_type": "stream",
     "text": [
      "Best valid accuracy: 0.71631\n"
     ]
    },
    {
     "data": {
      "application/vnd.jupyter.widget-view+json": {
       "model_id": "68202fee2459451881df027d9afd1141",
       "version_major": 2,
       "version_minor": 0
      },
      "text/plain": [
       "  0%|          | 0/300 [00:00<?, ?it/s]"
      ]
     },
     "metadata": {},
     "output_type": "display_data"
    },
    {
     "name": "stdout",
     "output_type": "stream",
     "text": [
      "Best valid accuracy: 0.70686\n"
     ]
    },
    {
     "data": {
      "application/vnd.jupyter.widget-view+json": {
       "model_id": "c5a4b70d9904427aa923330b8ae42425",
       "version_major": 2,
       "version_minor": 0
      },
      "text/plain": [
       "  0%|          | 0/300 [00:00<?, ?it/s]"
      ]
     },
     "metadata": {},
     "output_type": "display_data"
    },
    {
     "name": "stdout",
     "output_type": "stream",
     "text": [
      "Best valid accuracy: 0.73522\n"
     ]
    },
    {
     "data": {
      "application/vnd.jupyter.widget-view+json": {
       "model_id": "1e4d5e3b16be45d8806e2a282209d979",
       "version_major": 2,
       "version_minor": 0
      },
      "text/plain": [
       "  0%|          | 0/300 [00:00<?, ?it/s]"
      ]
     },
     "metadata": {},
     "output_type": "display_data"
    },
    {
     "name": "stdout",
     "output_type": "stream",
     "text": [
      "Best valid accuracy: 0.73522\n"
     ]
    },
    {
     "data": {
      "application/vnd.jupyter.widget-view+json": {
       "model_id": "eaa3d5b170d24fc7b61522fbeb6920f5",
       "version_major": 2,
       "version_minor": 0
      },
      "text/plain": [
       "  0%|          | 0/300 [00:00<?, ?it/s]"
      ]
     },
     "metadata": {},
     "output_type": "display_data"
    },
    {
     "name": "stdout",
     "output_type": "stream",
     "text": [
      "Best valid accuracy: 0.71158\n"
     ]
    },
    {
     "data": {
      "application/vnd.jupyter.widget-view+json": {
       "model_id": "5cbeda4b7d5343258abf8645b5b50d16",
       "version_major": 2,
       "version_minor": 0
      },
      "text/plain": [
       "  0%|          | 0/300 [00:00<?, ?it/s]"
      ]
     },
     "metadata": {},
     "output_type": "display_data"
    },
    {
     "name": "stdout",
     "output_type": "stream",
     "text": [
      "Best valid accuracy: 0.69267\n"
     ]
    },
    {
     "data": {
      "application/vnd.jupyter.widget-view+json": {
       "model_id": "d9705814e93d4aeea97dbfb25b8bec4c",
       "version_major": 2,
       "version_minor": 0
      },
      "text/plain": [
       "  0%|          | 0/300 [00:00<?, ?it/s]"
      ]
     },
     "metadata": {},
     "output_type": "display_data"
    },
    {
     "name": "stdout",
     "output_type": "stream",
     "text": [
      "Best valid accuracy: 0.73759\n"
     ]
    },
    {
     "data": {
      "application/vnd.jupyter.widget-view+json": {
       "model_id": "48f1ac98016c4deb98f56425c83542bd",
       "version_major": 2,
       "version_minor": 0
      },
      "text/plain": [
       "  0%|          | 0/300 [00:00<?, ?it/s]"
      ]
     },
     "metadata": {},
     "output_type": "display_data"
    },
    {
     "name": "stdout",
     "output_type": "stream",
     "text": [
      "Best valid accuracy: 0.73286\n"
     ]
    },
    {
     "data": {
      "application/vnd.jupyter.widget-view+json": {
       "model_id": "e2a876a88f3e414e884fbc749aaafa4f",
       "version_major": 2,
       "version_minor": 0
      },
      "text/plain": [
       "  0%|          | 0/300 [00:00<?, ?it/s]"
      ]
     },
     "metadata": {},
     "output_type": "display_data"
    },
    {
     "name": "stdout",
     "output_type": "stream",
     "text": [
      "Best valid accuracy: 0.7234\n"
     ]
    },
    {
     "data": {
      "application/vnd.jupyter.widget-view+json": {
       "model_id": "2e3c7a7aaf6c40bcabf3997a96a63ab9",
       "version_major": 2,
       "version_minor": 0
      },
      "text/plain": [
       "  0%|          | 0/300 [00:00<?, ?it/s]"
      ]
     },
     "metadata": {},
     "output_type": "display_data"
    },
    {
     "name": "stdout",
     "output_type": "stream",
     "text": [
      "Best valid accuracy: 0.68558\n"
     ]
    }
   ],
   "source": [
    "l = 300\n",
    "\n",
    "X_train_valid_sub = X_train_valid[:, :, :l]\n",
    "X_test_sub = X_test[:, :, :l]\n",
    "    \n",
    "# make data loader\n",
    "# Convert data to tensors\n",
    "X_tensor_sub = torch.FloatTensor(X_test_sub)\n",
    "y_tensor_sub = torch.LongTensor(y_test)\n",
    "\n",
    "# Combine X and y into a TensorDataset\n",
    "dataset_sub = TensorDataset(X_tensor_sub, y_tensor_sub)\n",
    "\n",
    "# Prepare dataloaders\n",
    "test_dataloader_sub= DataLoader(dataset_sub, batch_size=256, shuffle=False)\n",
    "\n",
    "train_accs_sub = []\n",
    "valid_accs_sub = []\n",
    "test_accs_sub = []\n",
    "times_sub = []\n",
    "\n",
    "for trial in range(num_trials):\n",
    "    start = time.time()\n",
    "    cnn_sub = CNN(input_size=X_train_valid_sub.shape[1:], N=n_class).to(device)\n",
    "    valid_acc, trains, valids = fit(cnn_sub, X_train_valid_sub, y_train_valid, device, epochs=300)\n",
    "    test_acc, _ = evaluate(cnn_sub, test_dataloader_sub, device)\n",
    "    end = time.time()\n",
    "    train_accs_sub.append(np.max(trains))\n",
    "    valid_accs_sub.append(valid_acc)\n",
    "    test_accs_sub.append(test_acc)\n",
    "    times_sub.append(end-start)\n",
    "\n",
    "train_accs_focus.append(train_accs_sub)\n",
    "valid_accs_focus.append(valid_accs_sub)\n",
    "test_accs_focus.append(test_accs_sub)\n",
    "times_focus.append(times_sub)\n",
    "\n",
    "np.save('Time_bin_data/train_accs_focus.npy', train_accs_focus)\n",
    "np.save('Time_bin_data/valid_accs_focus.npy', valid_accs_focus)\n",
    "np.save('Time_bin_data/test_accs_focus.npy', test_accs_focus)\n",
    "np.save('Time_bin_data/times_focus.npy', times_focus)"
   ]
  },
  {
   "cell_type": "markdown",
   "metadata": {},
   "source": [
    "### L = 400"
   ]
  },
  {
   "cell_type": "code",
   "execution_count": 18,
   "metadata": {},
   "outputs": [
    {
     "data": {
      "application/vnd.jupyter.widget-view+json": {
       "model_id": "168ae76805234d76b2baf9a12be6e17f",
       "version_major": 2,
       "version_minor": 0
      },
      "text/plain": [
       "  0%|          | 0/300 [00:00<?, ?it/s]"
      ]
     },
     "metadata": {},
     "output_type": "display_data"
    },
    {
     "name": "stdout",
     "output_type": "stream",
     "text": [
      "Best valid accuracy: 0.72104\n"
     ]
    },
    {
     "data": {
      "application/vnd.jupyter.widget-view+json": {
       "model_id": "8f726f930f434361b5af9ec2f28db25d",
       "version_major": 2,
       "version_minor": 0
      },
      "text/plain": [
       "  0%|          | 0/300 [00:00<?, ?it/s]"
      ]
     },
     "metadata": {},
     "output_type": "display_data"
    },
    {
     "name": "stdout",
     "output_type": "stream",
     "text": [
      "Best valid accuracy: 0.69267\n"
     ]
    },
    {
     "data": {
      "application/vnd.jupyter.widget-view+json": {
       "model_id": "39579b2807c54e83a4ed285142f0f72c",
       "version_major": 2,
       "version_minor": 0
      },
      "text/plain": [
       "  0%|          | 0/300 [00:00<?, ?it/s]"
      ]
     },
     "metadata": {},
     "output_type": "display_data"
    },
    {
     "name": "stdout",
     "output_type": "stream",
     "text": [
      "Best valid accuracy: 0.7305\n"
     ]
    },
    {
     "data": {
      "application/vnd.jupyter.widget-view+json": {
       "model_id": "28873123b8ad4df9b519666b9cc9efeb",
       "version_major": 2,
       "version_minor": 0
      },
      "text/plain": [
       "  0%|          | 0/300 [00:00<?, ?it/s]"
      ]
     },
     "metadata": {},
     "output_type": "display_data"
    },
    {
     "name": "stdout",
     "output_type": "stream",
     "text": [
      "Best valid accuracy: 0.74232\n"
     ]
    },
    {
     "data": {
      "application/vnd.jupyter.widget-view+json": {
       "model_id": "f716a5d958844c14b0120f610644af65",
       "version_major": 2,
       "version_minor": 0
      },
      "text/plain": [
       "  0%|          | 0/300 [00:00<?, ?it/s]"
      ]
     },
     "metadata": {},
     "output_type": "display_data"
    },
    {
     "name": "stdout",
     "output_type": "stream",
     "text": [
      "Best valid accuracy: 0.74704\n"
     ]
    },
    {
     "data": {
      "application/vnd.jupyter.widget-view+json": {
       "model_id": "a188c377652b462f96b0b72fbe3a4626",
       "version_major": 2,
       "version_minor": 0
      },
      "text/plain": [
       "  0%|          | 0/300 [00:00<?, ?it/s]"
      ]
     },
     "metadata": {},
     "output_type": "display_data"
    },
    {
     "name": "stdout",
     "output_type": "stream",
     "text": [
      "Best valid accuracy: 0.7234\n"
     ]
    },
    {
     "data": {
      "application/vnd.jupyter.widget-view+json": {
       "model_id": "e2481c6402d84425ba8b7670a83c5a4d",
       "version_major": 2,
       "version_minor": 0
      },
      "text/plain": [
       "  0%|          | 0/300 [00:00<?, ?it/s]"
      ]
     },
     "metadata": {},
     "output_type": "display_data"
    },
    {
     "name": "stdout",
     "output_type": "stream",
     "text": [
      "Best valid accuracy: 0.75177\n"
     ]
    },
    {
     "data": {
      "application/vnd.jupyter.widget-view+json": {
       "model_id": "1a01fdfdf6b6466fb0e0286010e7a434",
       "version_major": 2,
       "version_minor": 0
      },
      "text/plain": [
       "  0%|          | 0/300 [00:00<?, ?it/s]"
      ]
     },
     "metadata": {},
     "output_type": "display_data"
    },
    {
     "name": "stdout",
     "output_type": "stream",
     "text": [
      "Best valid accuracy: 0.74468\n"
     ]
    },
    {
     "data": {
      "application/vnd.jupyter.widget-view+json": {
       "model_id": "f437fb8c4c5b484cb5c5b223569a93b7",
       "version_major": 2,
       "version_minor": 0
      },
      "text/plain": [
       "  0%|          | 0/300 [00:00<?, ?it/s]"
      ]
     },
     "metadata": {},
     "output_type": "display_data"
    },
    {
     "name": "stdout",
     "output_type": "stream",
     "text": [
      "Best valid accuracy: 0.72104\n"
     ]
    },
    {
     "data": {
      "application/vnd.jupyter.widget-view+json": {
       "model_id": "bccda9ed0dc14ffa807eccbc155cd00f",
       "version_major": 2,
       "version_minor": 0
      },
      "text/plain": [
       "  0%|          | 0/300 [00:00<?, ?it/s]"
      ]
     },
     "metadata": {},
     "output_type": "display_data"
    },
    {
     "name": "stdout",
     "output_type": "stream",
     "text": [
      "Best valid accuracy: 0.76832\n"
     ]
    }
   ],
   "source": [
    "l = 400\n",
    "\n",
    "X_train_valid_sub = X_train_valid[:, :, :l]\n",
    "X_test_sub = X_test[:, :, :l]\n",
    "    \n",
    "# make data loader\n",
    "# Convert data to tensors\n",
    "X_tensor_sub = torch.FloatTensor(X_test_sub)\n",
    "y_tensor_sub = torch.LongTensor(y_test)\n",
    "\n",
    "# Combine X and y into a TensorDataset\n",
    "dataset_sub = TensorDataset(X_tensor_sub, y_tensor_sub)\n",
    "\n",
    "# Prepare dataloaders\n",
    "test_dataloader_sub= DataLoader(dataset_sub, batch_size=256, shuffle=False)\n",
    "\n",
    "train_accs_sub = []\n",
    "valid_accs_sub = []\n",
    "test_accs_sub = []\n",
    "times_sub = []\n",
    "\n",
    "for trial in range(num_trials):\n",
    "    start = time.time()\n",
    "    cnn_sub = CNN(input_size=X_train_valid_sub.shape[1:], N=n_class).to(device)\n",
    "    valid_acc, trains, valids = fit(cnn_sub, X_train_valid_sub, y_train_valid, device, epochs=300)\n",
    "    test_acc, _ = evaluate(cnn_sub, test_dataloader_sub, device)\n",
    "    end = time.time()\n",
    "    train_accs_sub.append(np.max(trains))\n",
    "    valid_accs_sub.append(valid_acc)\n",
    "    test_accs_sub.append(test_acc)\n",
    "    times_sub.append(end-start)\n",
    "\n",
    "train_accs_focus.append(train_accs_sub)\n",
    "valid_accs_focus.append(valid_accs_sub)\n",
    "test_accs_focus.append(test_accs_sub)\n",
    "times_focus.append(times_sub)\n",
    "\n",
    "np.save('Time_bin_data/train_accs_focus.npy', train_accs_focus)\n",
    "np.save('Time_bin_data/valid_accs_focus.npy', valid_accs_focus)\n",
    "np.save('Time_bin_data/test_accs_focus.npy', test_accs_focus)\n",
    "np.save('Time_bin_data/times_focus.npy', times_focus)"
   ]
  },
  {
   "cell_type": "markdown",
   "metadata": {},
   "source": [
    "### L = 500"
   ]
  },
  {
   "cell_type": "code",
   "execution_count": 27,
   "metadata": {},
   "outputs": [
    {
     "data": {
      "application/vnd.jupyter.widget-view+json": {
       "model_id": "b9b994aa52e74c86ada265be11c9fae5",
       "version_major": 2,
       "version_minor": 0
      },
      "text/plain": [
       "  0%|          | 0/300 [00:00<?, ?it/s]"
      ]
     },
     "metadata": {},
     "output_type": "display_data"
    },
    {
     "name": "stdout",
     "output_type": "stream",
     "text": [
      "Best valid accuracy: 0.74941\n"
     ]
    },
    {
     "data": {
      "application/vnd.jupyter.widget-view+json": {
       "model_id": "a68da7c4d12e42a385bd590fc406912c",
       "version_major": 2,
       "version_minor": 0
      },
      "text/plain": [
       "  0%|          | 0/300 [00:00<?, ?it/s]"
      ]
     },
     "metadata": {},
     "output_type": "display_data"
    },
    {
     "name": "stdout",
     "output_type": "stream",
     "text": [
      "Best valid accuracy: 0.76596\n"
     ]
    },
    {
     "data": {
      "application/vnd.jupyter.widget-view+json": {
       "model_id": "b79a4bfb707e47cb962029bb5da33a93",
       "version_major": 2,
       "version_minor": 0
      },
      "text/plain": [
       "  0%|          | 0/300 [00:00<?, ?it/s]"
      ]
     },
     "metadata": {},
     "output_type": "display_data"
    },
    {
     "name": "stdout",
     "output_type": "stream",
     "text": [
      "Best valid accuracy: 0.73759\n"
     ]
    },
    {
     "data": {
      "application/vnd.jupyter.widget-view+json": {
       "model_id": "4e6ef64affbb43c7902a61a07d686b0d",
       "version_major": 2,
       "version_minor": 0
      },
      "text/plain": [
       "  0%|          | 0/300 [00:00<?, ?it/s]"
      ]
     },
     "metadata": {},
     "output_type": "display_data"
    },
    {
     "name": "stdout",
     "output_type": "stream",
     "text": [
      "Best valid accuracy: 0.69976\n"
     ]
    },
    {
     "data": {
      "application/vnd.jupyter.widget-view+json": {
       "model_id": "ef647b380b634ebf9bfb0fcef6aaa160",
       "version_major": 2,
       "version_minor": 0
      },
      "text/plain": [
       "  0%|          | 0/300 [00:00<?, ?it/s]"
      ]
     },
     "metadata": {},
     "output_type": "display_data"
    },
    {
     "name": "stdout",
     "output_type": "stream",
     "text": [
      "Best valid accuracy: 0.74468\n"
     ]
    },
    {
     "data": {
      "application/vnd.jupyter.widget-view+json": {
       "model_id": "d5635fb0f35e48b2a3c812360cac42ff",
       "version_major": 2,
       "version_minor": 0
      },
      "text/plain": [
       "  0%|          | 0/300 [00:00<?, ?it/s]"
      ]
     },
     "metadata": {},
     "output_type": "display_data"
    },
    {
     "name": "stdout",
     "output_type": "stream",
     "text": [
      "Best valid accuracy: 0.72577\n"
     ]
    },
    {
     "data": {
      "application/vnd.jupyter.widget-view+json": {
       "model_id": "61876fc1fd1d43ff93debba46f9f2267",
       "version_major": 2,
       "version_minor": 0
      },
      "text/plain": [
       "  0%|          | 0/300 [00:00<?, ?it/s]"
      ]
     },
     "metadata": {},
     "output_type": "display_data"
    },
    {
     "name": "stdout",
     "output_type": "stream",
     "text": [
      "Best valid accuracy: 0.73522\n"
     ]
    },
    {
     "data": {
      "application/vnd.jupyter.widget-view+json": {
       "model_id": "c409836167004d49af44b5336a65b130",
       "version_major": 2,
       "version_minor": 0
      },
      "text/plain": [
       "  0%|          | 0/300 [00:00<?, ?it/s]"
      ]
     },
     "metadata": {},
     "output_type": "display_data"
    },
    {
     "name": "stdout",
     "output_type": "stream",
     "text": [
      "Best valid accuracy: 0.74232\n"
     ]
    },
    {
     "data": {
      "application/vnd.jupyter.widget-view+json": {
       "model_id": "8405488dd0fa48aab63c222041f08dd1",
       "version_major": 2,
       "version_minor": 0
      },
      "text/plain": [
       "  0%|          | 0/300 [00:00<?, ?it/s]"
      ]
     },
     "metadata": {},
     "output_type": "display_data"
    },
    {
     "name": "stdout",
     "output_type": "stream",
     "text": [
      "Best valid accuracy: 0.72104\n"
     ]
    },
    {
     "data": {
      "application/vnd.jupyter.widget-view+json": {
       "model_id": "c053864a850d4e56be8e68eb50a8ebbb",
       "version_major": 2,
       "version_minor": 0
      },
      "text/plain": [
       "  0%|          | 0/300 [00:00<?, ?it/s]"
      ]
     },
     "metadata": {},
     "output_type": "display_data"
    },
    {
     "name": "stdout",
     "output_type": "stream",
     "text": [
      "Best valid accuracy: 0.73759\n"
     ]
    }
   ],
   "source": [
    "l = 500\n",
    "\n",
    "X_train_valid_sub = X_train_valid[:, :, :l]\n",
    "X_test_sub = X_test[:, :, :l]\n",
    "    \n",
    "# make data loader\n",
    "# Convert data to tensors\n",
    "X_tensor_sub = torch.FloatTensor(X_test_sub)\n",
    "y_tensor_sub = torch.LongTensor(y_test)\n",
    "\n",
    "# Combine X and y into a TensorDataset\n",
    "dataset_sub = TensorDataset(X_tensor_sub, y_tensor_sub)\n",
    "\n",
    "# Prepare dataloaders\n",
    "test_dataloader_sub= DataLoader(dataset_sub, batch_size=256, shuffle=False)\n",
    "\n",
    "train_accs_sub = []\n",
    "valid_accs_sub = []\n",
    "test_accs_sub = []\n",
    "times_sub = []\n",
    "\n",
    "for trial in range(num_trials):\n",
    "    start = time.time()\n",
    "    cnn_sub = CNN(input_size=X_train_valid_sub.shape[1:], N=n_class).to(device)\n",
    "    valid_acc, trains, valids = fit(cnn_sub, X_train_valid_sub, y_train_valid, device, epochs=300)\n",
    "    test_acc, _ = evaluate(cnn_sub, test_dataloader_sub, device)\n",
    "    end = time.time()\n",
    "    train_accs_sub.append(np.max(trains))\n",
    "    valid_accs_sub.append(valid_acc)\n",
    "    test_accs_sub.append(test_acc)\n",
    "    times_sub.append(end-start)\n",
    "\n",
    "train_accs_focus.append(train_accs_sub)\n",
    "valid_accs_focus.append(valid_accs_sub)\n",
    "test_accs_focus.append(test_accs_sub)\n",
    "times_focus.append(times_sub)\n",
    "\n",
    "np.save('Time_bin_data/train_accs_focus.npy', train_accs_focus)\n",
    "np.save('Time_bin_data/valid_accs_focus.npy', valid_accs_focus)\n",
    "np.save('Time_bin_data/test_accs_focus.npy', test_accs_focus)\n",
    "np.save('Time_bin_data/times_focus.npy', times_focus)"
   ]
  },
  {
   "cell_type": "markdown",
   "metadata": {},
   "source": [
    "### L = 600"
   ]
  },
  {
   "cell_type": "code",
   "execution_count": 28,
   "metadata": {},
   "outputs": [
    {
     "data": {
      "application/vnd.jupyter.widget-view+json": {
       "model_id": "29d7f6186b9246728a0eed663fd89b33",
       "version_major": 2,
       "version_minor": 0
      },
      "text/plain": [
       "  0%|          | 0/300 [00:00<?, ?it/s]"
      ]
     },
     "metadata": {},
     "output_type": "display_data"
    },
    {
     "name": "stdout",
     "output_type": "stream",
     "text": [
      "Best valid accuracy: 0.71631\n"
     ]
    },
    {
     "data": {
      "application/vnd.jupyter.widget-view+json": {
       "model_id": "3a051890ae1145fe818e57730ef71b94",
       "version_major": 2,
       "version_minor": 0
      },
      "text/plain": [
       "  0%|          | 0/300 [00:00<?, ?it/s]"
      ]
     },
     "metadata": {},
     "output_type": "display_data"
    },
    {
     "name": "stdout",
     "output_type": "stream",
     "text": [
      "Best valid accuracy: 0.72104\n"
     ]
    },
    {
     "data": {
      "application/vnd.jupyter.widget-view+json": {
       "model_id": "14b498b91a0b4c96bd257fff980f47a8",
       "version_major": 2,
       "version_minor": 0
      },
      "text/plain": [
       "  0%|          | 0/300 [00:00<?, ?it/s]"
      ]
     },
     "metadata": {},
     "output_type": "display_data"
    },
    {
     "name": "stdout",
     "output_type": "stream",
     "text": [
      "Best valid accuracy: 0.71158\n"
     ]
    },
    {
     "data": {
      "application/vnd.jupyter.widget-view+json": {
       "model_id": "3028837de68246a19e167569d82993cb",
       "version_major": 2,
       "version_minor": 0
      },
      "text/plain": [
       "  0%|          | 0/300 [00:00<?, ?it/s]"
      ]
     },
     "metadata": {},
     "output_type": "display_data"
    },
    {
     "name": "stdout",
     "output_type": "stream",
     "text": [
      "Best valid accuracy: 0.7234\n"
     ]
    },
    {
     "data": {
      "application/vnd.jupyter.widget-view+json": {
       "model_id": "1583b28cd4d849269f0ebeda4ff4d5be",
       "version_major": 2,
       "version_minor": 0
      },
      "text/plain": [
       "  0%|          | 0/300 [00:00<?, ?it/s]"
      ]
     },
     "metadata": {},
     "output_type": "display_data"
    },
    {
     "name": "stdout",
     "output_type": "stream",
     "text": [
      "Best valid accuracy: 0.71158\n"
     ]
    },
    {
     "data": {
      "application/vnd.jupyter.widget-view+json": {
       "model_id": "ce0820cb19d64a8d8fda32c7024af04c",
       "version_major": 2,
       "version_minor": 0
      },
      "text/plain": [
       "  0%|          | 0/300 [00:00<?, ?it/s]"
      ]
     },
     "metadata": {},
     "output_type": "display_data"
    },
    {
     "name": "stdout",
     "output_type": "stream",
     "text": [
      "Best valid accuracy: 0.71868\n"
     ]
    },
    {
     "data": {
      "application/vnd.jupyter.widget-view+json": {
       "model_id": "6b0075c9e09e434ca515bdbca184ee3d",
       "version_major": 2,
       "version_minor": 0
      },
      "text/plain": [
       "  0%|          | 0/300 [00:00<?, ?it/s]"
      ]
     },
     "metadata": {},
     "output_type": "display_data"
    },
    {
     "name": "stdout",
     "output_type": "stream",
     "text": [
      "Best valid accuracy: 0.74232\n"
     ]
    },
    {
     "data": {
      "application/vnd.jupyter.widget-view+json": {
       "model_id": "08d945ca47844ee38621043565ff1f0a",
       "version_major": 2,
       "version_minor": 0
      },
      "text/plain": [
       "  0%|          | 0/300 [00:00<?, ?it/s]"
      ]
     },
     "metadata": {},
     "output_type": "display_data"
    },
    {
     "name": "stdout",
     "output_type": "stream",
     "text": [
      "Best valid accuracy: 0.7305\n"
     ]
    },
    {
     "data": {
      "application/vnd.jupyter.widget-view+json": {
       "model_id": "4d4946551ab442fba035e5b34c4688c6",
       "version_major": 2,
       "version_minor": 0
      },
      "text/plain": [
       "  0%|          | 0/300 [00:00<?, ?it/s]"
      ]
     },
     "metadata": {},
     "output_type": "display_data"
    },
    {
     "name": "stdout",
     "output_type": "stream",
     "text": [
      "Best valid accuracy: 0.72577\n"
     ]
    },
    {
     "data": {
      "application/vnd.jupyter.widget-view+json": {
       "model_id": "e34e7279514842f694c99ccce19052fb",
       "version_major": 2,
       "version_minor": 0
      },
      "text/plain": [
       "  0%|          | 0/300 [00:00<?, ?it/s]"
      ]
     },
     "metadata": {},
     "output_type": "display_data"
    },
    {
     "name": "stdout",
     "output_type": "stream",
     "text": [
      "Best valid accuracy: 0.72104\n"
     ]
    }
   ],
   "source": [
    "l = 600\n",
    "\n",
    "X_train_valid_sub = X_train_valid[:, :, :l]\n",
    "X_test_sub = X_test[:, :, :l]\n",
    "    \n",
    "# make data loader\n",
    "# Convert data to tensors\n",
    "X_tensor_sub = torch.FloatTensor(X_test_sub)\n",
    "y_tensor_sub = torch.LongTensor(y_test)\n",
    "\n",
    "# Combine X and y into a TensorDataset\n",
    "dataset_sub = TensorDataset(X_tensor_sub, y_tensor_sub)\n",
    "\n",
    "# Prepare dataloaders\n",
    "test_dataloader_sub= DataLoader(dataset_sub, batch_size=256, shuffle=False)\n",
    "\n",
    "train_accs_sub = []\n",
    "valid_accs_sub = []\n",
    "test_accs_sub = []\n",
    "times_sub = []\n",
    "\n",
    "for trial in range(num_trials):\n",
    "    start = time.time()\n",
    "    cnn_sub = CNN(input_size=X_train_valid_sub.shape[1:], N=n_class).to(device)\n",
    "    valid_acc, trains, valids = fit(cnn_sub, X_train_valid_sub, y_train_valid, device, epochs=300)\n",
    "    test_acc, _ = evaluate(cnn_sub, test_dataloader_sub, device)\n",
    "    end = time.time()\n",
    "    train_accs_sub.append(np.max(trains))\n",
    "    valid_accs_sub.append(valid_acc)\n",
    "    test_accs_sub.append(test_acc)\n",
    "    times_sub.append(end-start)\n",
    "\n",
    "train_accs_focus.append(train_accs_sub)\n",
    "valid_accs_focus.append(valid_accs_sub)\n",
    "test_accs_focus.append(test_accs_sub)\n",
    "times_focus.append(times_sub)\n",
    "\n",
    "np.save('Time_bin_data/train_accs_focus.npy', train_accs_focus)\n",
    "np.save('Time_bin_data/valid_accs_focus.npy', valid_accs_focus)\n",
    "np.save('Time_bin_data/test_accs_focus.npy', test_accs_focus)\n",
    "np.save('Time_bin_data/times_focus.npy', times_focus)"
   ]
  },
  {
   "cell_type": "markdown",
   "metadata": {},
   "source": [
    "### L = 700"
   ]
  },
  {
   "cell_type": "code",
   "execution_count": 30,
   "metadata": {},
   "outputs": [
    {
     "data": {
      "application/vnd.jupyter.widget-view+json": {
       "model_id": "f82f0603a0d049d5a32340231d49a5e5",
       "version_major": 2,
       "version_minor": 0
      },
      "text/plain": [
       "  0%|          | 0/300 [00:00<?, ?it/s]"
      ]
     },
     "metadata": {},
     "output_type": "display_data"
    },
    {
     "name": "stdout",
     "output_type": "stream",
     "text": [
      "Best valid accuracy: 0.69031\n"
     ]
    },
    {
     "data": {
      "application/vnd.jupyter.widget-view+json": {
       "model_id": "ef87fa40a61e48ac94b77770a1c4ee8b",
       "version_major": 2,
       "version_minor": 0
      },
      "text/plain": [
       "  0%|          | 0/300 [00:00<?, ?it/s]"
      ]
     },
     "metadata": {},
     "output_type": "display_data"
    },
    {
     "name": "stdout",
     "output_type": "stream",
     "text": [
      "Best valid accuracy: 0.72813\n"
     ]
    },
    {
     "data": {
      "application/vnd.jupyter.widget-view+json": {
       "model_id": "c6d933f6cf06488aa4340ba37ad4343f",
       "version_major": 2,
       "version_minor": 0
      },
      "text/plain": [
       "  0%|          | 0/300 [00:00<?, ?it/s]"
      ]
     },
     "metadata": {},
     "output_type": "display_data"
    },
    {
     "name": "stdout",
     "output_type": "stream",
     "text": [
      "Best valid accuracy: 0.72104\n"
     ]
    },
    {
     "data": {
      "application/vnd.jupyter.widget-view+json": {
       "model_id": "504f3baae54e40fa8f49d4e9e16e66eb",
       "version_major": 2,
       "version_minor": 0
      },
      "text/plain": [
       "  0%|          | 0/300 [00:00<?, ?it/s]"
      ]
     },
     "metadata": {},
     "output_type": "display_data"
    },
    {
     "name": "stdout",
     "output_type": "stream",
     "text": [
      "Best valid accuracy: 0.72577\n"
     ]
    },
    {
     "data": {
      "application/vnd.jupyter.widget-view+json": {
       "model_id": "d4dfa9ba902d48c9b895ca2b72f1af77",
       "version_major": 2,
       "version_minor": 0
      },
      "text/plain": [
       "  0%|          | 0/300 [00:00<?, ?it/s]"
      ]
     },
     "metadata": {},
     "output_type": "display_data"
    },
    {
     "name": "stdout",
     "output_type": "stream",
     "text": [
      "Best valid accuracy: 0.71631\n"
     ]
    },
    {
     "data": {
      "application/vnd.jupyter.widget-view+json": {
       "model_id": "ad81a7c60040402ab571700a915b7c2a",
       "version_major": 2,
       "version_minor": 0
      },
      "text/plain": [
       "  0%|          | 0/300 [00:00<?, ?it/s]"
      ]
     },
     "metadata": {},
     "output_type": "display_data"
    },
    {
     "name": "stdout",
     "output_type": "stream",
     "text": [
      "Best valid accuracy: 0.68794\n"
     ]
    },
    {
     "data": {
      "application/vnd.jupyter.widget-view+json": {
       "model_id": "b39993dcf375403a886ff5887b756787",
       "version_major": 2,
       "version_minor": 0
      },
      "text/plain": [
       "  0%|          | 0/300 [00:00<?, ?it/s]"
      ]
     },
     "metadata": {},
     "output_type": "display_data"
    },
    {
     "name": "stdout",
     "output_type": "stream",
     "text": [
      "Best valid accuracy: 0.72577\n"
     ]
    },
    {
     "data": {
      "application/vnd.jupyter.widget-view+json": {
       "model_id": "162e60606e4949bfa15ff1ea2feae7c9",
       "version_major": 2,
       "version_minor": 0
      },
      "text/plain": [
       "  0%|          | 0/300 [00:00<?, ?it/s]"
      ]
     },
     "metadata": {},
     "output_type": "display_data"
    },
    {
     "name": "stdout",
     "output_type": "stream",
     "text": [
      "Best valid accuracy: 0.71631\n"
     ]
    },
    {
     "data": {
      "application/vnd.jupyter.widget-view+json": {
       "model_id": "667cc57ba4cb4eeb8f572d4e94582376",
       "version_major": 2,
       "version_minor": 0
      },
      "text/plain": [
       "  0%|          | 0/300 [00:00<?, ?it/s]"
      ]
     },
     "metadata": {},
     "output_type": "display_data"
    },
    {
     "name": "stdout",
     "output_type": "stream",
     "text": [
      "Best valid accuracy: 0.73286\n"
     ]
    },
    {
     "data": {
      "application/vnd.jupyter.widget-view+json": {
       "model_id": "f1d59d839e03451fa99f7327a996a932",
       "version_major": 2,
       "version_minor": 0
      },
      "text/plain": [
       "  0%|          | 0/300 [00:00<?, ?it/s]"
      ]
     },
     "metadata": {},
     "output_type": "display_data"
    },
    {
     "name": "stdout",
     "output_type": "stream",
     "text": [
      "Best valid accuracy: 0.70922\n"
     ]
    }
   ],
   "source": [
    "l = 700\n",
    "\n",
    "X_train_valid_sub = X_train_valid[:, :, :l]\n",
    "X_test_sub = X_test[:, :, :l]\n",
    "    \n",
    "# make data loader\n",
    "# Convert data to tensors\n",
    "X_tensor_sub = torch.FloatTensor(X_test_sub)\n",
    "y_tensor_sub = torch.LongTensor(y_test)\n",
    "\n",
    "# Combine X and y into a TensorDataset\n",
    "dataset_sub = TensorDataset(X_tensor_sub, y_tensor_sub)\n",
    "\n",
    "# Prepare dataloaders\n",
    "test_dataloader_sub= DataLoader(dataset_sub, batch_size=256, shuffle=False)\n",
    "\n",
    "train_accs_sub = []\n",
    "valid_accs_sub = []\n",
    "test_accs_sub = []\n",
    "times_sub = []\n",
    "\n",
    "for trial in range(num_trials):\n",
    "    start = time.time()\n",
    "    cnn_sub = CNN(input_size=X_train_valid_sub.shape[1:], N=n_class).to(device)\n",
    "    valid_acc, trains, valids = fit(cnn_sub, X_train_valid_sub, y_train_valid, device, epochs=300)\n",
    "    test_acc, _ = evaluate(cnn_sub, test_dataloader_sub, device)\n",
    "    end = time.time()\n",
    "    train_accs_sub.append(np.max(trains))\n",
    "    valid_accs_sub.append(valid_acc)\n",
    "    test_accs_sub.append(test_acc)\n",
    "    times_sub.append(end-start)\n",
    "\n",
    "train_accs_focus.append(train_accs_sub)\n",
    "valid_accs_focus.append(valid_accs_sub)\n",
    "test_accs_focus.append(test_accs_sub)\n",
    "times_focus.append(times_sub)\n",
    "\n",
    "np.save('Time_bin_data/train_accs_focus.npy', train_accs_focus)\n",
    "np.save('Time_bin_data/valid_accs_focus.npy', valid_accs_focus)\n",
    "np.save('Time_bin_data/test_accs_focus.npy', test_accs_focus)\n",
    "np.save('Time_bin_data/times_focus.npy', times_focus)"
   ]
  },
  {
   "cell_type": "markdown",
   "metadata": {},
   "source": [
    "L = 800"
   ]
  },
  {
   "cell_type": "code",
   "execution_count": 71,
   "metadata": {},
   "outputs": [
    {
     "data": {
      "application/vnd.jupyter.widget-view+json": {
       "model_id": "3f383e8c5a9c4b2e9473e479ec4b138d",
       "version_major": 2,
       "version_minor": 0
      },
      "text/plain": [
       "  0%|          | 0/300 [00:00<?, ?it/s]"
      ]
     },
     "metadata": {},
     "output_type": "display_data"
    },
    {
     "name": "stdout",
     "output_type": "stream",
     "text": [
      "Best valid accuracy: 0.72104\n"
     ]
    },
    {
     "data": {
      "application/vnd.jupyter.widget-view+json": {
       "model_id": "99259d4f60e94e97a2357c062f2d891e",
       "version_major": 2,
       "version_minor": 0
      },
      "text/plain": [
       "  0%|          | 0/300 [00:00<?, ?it/s]"
      ]
     },
     "metadata": {},
     "output_type": "display_data"
    },
    {
     "name": "stdout",
     "output_type": "stream",
     "text": [
      "Best valid accuracy: 0.66903\n"
     ]
    },
    {
     "data": {
      "application/vnd.jupyter.widget-view+json": {
       "model_id": "2f6d5fc75c8c40ffb6adbdcbff061705",
       "version_major": 2,
       "version_minor": 0
      },
      "text/plain": [
       "  0%|          | 0/300 [00:00<?, ?it/s]"
      ]
     },
     "metadata": {},
     "output_type": "display_data"
    },
    {
     "name": "stdout",
     "output_type": "stream",
     "text": [
      "Best valid accuracy: 0.71158\n"
     ]
    },
    {
     "data": {
      "application/vnd.jupyter.widget-view+json": {
       "model_id": "b10c6a587af343999f17e913aa1b3feb",
       "version_major": 2,
       "version_minor": 0
      },
      "text/plain": [
       "  0%|          | 0/300 [00:00<?, ?it/s]"
      ]
     },
     "metadata": {},
     "output_type": "display_data"
    },
    {
     "name": "stdout",
     "output_type": "stream",
     "text": [
      "Best valid accuracy: 0.70449\n"
     ]
    },
    {
     "data": {
      "application/vnd.jupyter.widget-view+json": {
       "model_id": "9eb20da06d824f628a1b0a6de5c99cd0",
       "version_major": 2,
       "version_minor": 0
      },
      "text/plain": [
       "  0%|          | 0/300 [00:00<?, ?it/s]"
      ]
     },
     "metadata": {},
     "output_type": "display_data"
    },
    {
     "name": "stdout",
     "output_type": "stream",
     "text": [
      "Best valid accuracy: 0.69976\n"
     ]
    },
    {
     "data": {
      "application/vnd.jupyter.widget-view+json": {
       "model_id": "e63d489963dd4e1aa9e9c59d37bde457",
       "version_major": 2,
       "version_minor": 0
      },
      "text/plain": [
       "  0%|          | 0/300 [00:00<?, ?it/s]"
      ]
     },
     "metadata": {},
     "output_type": "display_data"
    },
    {
     "name": "stdout",
     "output_type": "stream",
     "text": [
      "Best valid accuracy: 0.69504\n"
     ]
    },
    {
     "data": {
      "application/vnd.jupyter.widget-view+json": {
       "model_id": "3db71e7afda247e29d766e92222d21b7",
       "version_major": 2,
       "version_minor": 0
      },
      "text/plain": [
       "  0%|          | 0/300 [00:00<?, ?it/s]"
      ]
     },
     "metadata": {},
     "output_type": "display_data"
    },
    {
     "name": "stdout",
     "output_type": "stream",
     "text": [
      "Best valid accuracy: 0.73995\n"
     ]
    },
    {
     "data": {
      "application/vnd.jupyter.widget-view+json": {
       "model_id": "583b0b0bbec8480ea2a8c1defca8a61f",
       "version_major": 2,
       "version_minor": 0
      },
      "text/plain": [
       "  0%|          | 0/300 [00:00<?, ?it/s]"
      ]
     },
     "metadata": {},
     "output_type": "display_data"
    },
    {
     "name": "stdout",
     "output_type": "stream",
     "text": [
      "Best valid accuracy: 0.7305\n"
     ]
    },
    {
     "data": {
      "application/vnd.jupyter.widget-view+json": {
       "model_id": "42f8920e2910473c8deaf63408389987",
       "version_major": 2,
       "version_minor": 0
      },
      "text/plain": [
       "  0%|          | 0/300 [00:00<?, ?it/s]"
      ]
     },
     "metadata": {},
     "output_type": "display_data"
    },
    {
     "name": "stdout",
     "output_type": "stream",
     "text": [
      "Best valid accuracy: 0.74232\n"
     ]
    },
    {
     "data": {
      "application/vnd.jupyter.widget-view+json": {
       "model_id": "973a3b1037714b94b37d1eb3aea11fed",
       "version_major": 2,
       "version_minor": 0
      },
      "text/plain": [
       "  0%|          | 0/300 [00:00<?, ?it/s]"
      ]
     },
     "metadata": {},
     "output_type": "display_data"
    },
    {
     "name": "stdout",
     "output_type": "stream",
     "text": [
      "Best valid accuracy: 0.71631\n"
     ]
    }
   ],
   "source": [
    "l = 800\n",
    "\n",
    "X_train_valid_sub = X_train_valid[:, :, :l]\n",
    "X_test_sub = X_test[:, :, :l]\n",
    "    \n",
    "# make data loader\n",
    "# Convert data to tensors\n",
    "X_tensor_sub = torch.FloatTensor(X_test_sub)\n",
    "y_tensor_sub = torch.LongTensor(y_test)\n",
    "\n",
    "# Combine X and y into a TensorDataset\n",
    "dataset_sub = TensorDataset(X_tensor_sub, y_tensor_sub)\n",
    "\n",
    "# Prepare dataloaders\n",
    "test_dataloader_sub= DataLoader(dataset_sub, batch_size=256, shuffle=False)\n",
    "\n",
    "train_accs_sub = []\n",
    "valid_accs_sub = []\n",
    "test_accs_sub = []\n",
    "times_sub = []\n",
    "\n",
    "for trial in range(num_trials):\n",
    "    start = time.time()\n",
    "    cnn_sub = CNN(input_size=X_train_valid_sub.shape[1:], N=n_class).to(device)\n",
    "    valid_acc, trains, valids = fit(cnn_sub, X_train_valid_sub, y_train_valid, device, epochs=300)\n",
    "    test_acc, _ = evaluate(cnn_sub, test_dataloader_sub, device)\n",
    "    end = time.time()\n",
    "    train_accs_sub.append(np.max(trains))\n",
    "    valid_accs_sub.append(valid_acc)\n",
    "    test_accs_sub.append(test_acc)\n",
    "    times_sub.append(end-start)\n",
    "\n",
    "train_accs_focus.append(train_accs_sub)\n",
    "valid_accs_focus.append(valid_accs_sub)\n",
    "test_accs_focus.append(test_accs_sub)\n",
    "times_focus.append(times_sub)\n",
    "\n",
    "np.save('Time_bin_data/train_accs_focus.npy', train_accs_focus)\n",
    "np.save('Time_bin_data/valid_accs_focus.npy', valid_accs_focus)\n",
    "np.save('Time_bin_data/test_accs_focus.npy', test_accs_focus)\n",
    "np.save('Time_bin_data/times_focus.npy', times_focus)"
   ]
  },
  {
   "cell_type": "code",
   "execution_count": null,
   "metadata": {},
   "outputs": [],
   "source": [
    "# Use this block to retrieve and plot previous results\n",
    "\n",
    "train_accs_focus = np.load('Time_bin_data/train_accs_focus.npy')\n",
    "valid_accs_focus = np.load('Time_bin_data/valid_accs_focus.npy')\n",
    "test_accs_focus = np.load('Time_bin_data/test_accs_focus.npy')\n",
    "times_focus = np.load('Time_bin_data/times_focus.npy')"
   ]
  },
  {
   "cell_type": "code",
   "execution_count": 140,
   "metadata": {},
   "outputs": [
    {
     "data": {
      "image/png": "[encoded data removed]",
      "text/plain": [
       "<Figure size 640x480 with 1 Axes>"
      ]
     },
     "metadata": {},
     "output_type": "display_data"
    }
   ],
   "source": [
    "from scipy import stats\n",
    "\n",
    "ls_focus = np.arange(300, 801, 100)\n",
    "\n",
    "plt.figure()\n",
    "plt.errorbar(ls_focus, [np.mean(x) for x in train_accs_focus], [stats.sem(x) for x in train_accs_focus], fmt='go-', ecolor='black', elinewidth=2, capsize=2, barsabove=True)\n",
    "plt.errorbar(ls_focus, [np.mean(x) for x in valid_accs_focus], [stats.sem(x) for x in valid_accs_focus], fmt='bo-', ecolor='black', elinewidth=2, capsize=2, barsabove=True)\n",
    "plt.errorbar(ls_focus, [np.mean(x) for x in test_accs_focus], [stats.sem(x) for x in test_accs_focus], fmt='ro-', ecolor='black', elinewidth=2, capsize=2, barsabove=True)\n",
    "plt.title(\"Various Accuracy Measures v.s. Time Bin Count (Focused, Statistical)\")\n",
    "plt.xlabel('Time Bin (#)')\n",
    "plt.ylabel('Accuracy')\n",
    "plt.legend(['Peak Training Accuracy', 'Peak Validation Accuracy', 'Test Accuracy'])\n",
    "plt.show()"
   ]
  },
  {
   "cell_type": "code",
   "execution_count": 134,
   "metadata": {},
   "outputs": [
    {
     "name": "stdout",
     "output_type": "stream",
     "text": [
      "Test Accuracies: [0.696387, 0.7162510000000001, 0.704966, 0.7124159999999999, 0.7069970000000001, 0.699774]\n",
      "Standard Errors: [0.007226767380909517, 0.006305010080175222, 0.005953978165898831, 0.004232361883288229, 0.004636057724211617, 0.006295109777526607]\n",
      "2 Sample T-Test p-values vs 400:\n",
      "0.052990266602629746\n",
      "0.2095601008366212\n",
      "0.6196745873937728\n",
      "0.25240438703435375\n",
      "0.08089892599927588\n"
     ]
    },
    {
     "data": {
      "image/png": "[encoded data removed]",
      "text/plain": [
       "<Figure size 640x480 with 1 Axes>"
      ]
     },
     "metadata": {},
     "output_type": "display_data"
    }
   ],
   "source": [
    "plt.errorbar(ls_focus, [np.mean(x) for x in test_accs_focus], [stats.sem(x) for x in test_accs_focus], fmt='ro-', ecolor='black', elinewidth=2, capsize=2, barsabove=True)\n",
    "plt.hlines(0.70607, 300, 800)\n",
    "plt.hlines(0.70363, 300, 800)\n",
    "plt.title(\"Test Accuracy & Error v.s. Time Bin Count\")\n",
    "plt.xlabel('Time Bin (#)')\n",
    "plt.ylabel('Test Accuracy')\n",
    "print(\"Test Accuracies: \" + str([np.mean(x) for x in test_accs_focus]))\n",
    "print(\"Standard Errors: \" + str([stats.sem(x) for x in test_accs_focus]))\n",
    "print(\"2 Sample T-Test p-values vs 400:\")\n",
    "for i in [0, 2, 3, 4, 5]:\n",
    "    t, p = stats.ttest_ind(a=test_accs_focus[i], b=test_accs_focus[1])\n",
    "    print(p)"
   ]
  },
  {
   "cell_type": "code",
   "execution_count": 122,
   "metadata": {},
   "outputs": [
    {
     "data": {
      "image/png": "[encoded data removed]",
      "text/plain": [
       "<Figure size 640x480 with 1 Axes>"
      ]
     },
     "metadata": {},
     "output_type": "display_data"
    }
   ],
   "source": [
    "time = np.arange(1000)\n",
    "plt.figure()\n",
    "for i in range(22):\n",
    "    plt.plot(time, X_train_valid[1][i])"
   ]
  }
 ],
 "metadata": {
  "interpreter": {
   "hash": "cc54b9e43af7a0c7fb4d06dbdd44e5ca6fb86b76a909759481753182cba9a8da"
  },
  "kernelspec": {
   "display_name": "Python 3.10.13 64-bit ('base': conda)",
   "name": "python3"
  },
  "language_info": {
   "codemirror_mode": {
    "name": "ipython",
    "version": 3
   },
   "file_extension": ".py",
   "mimetype": "text/x-python",
   "name": "python",
   "nbconvert_exporter": "python",
   "pygments_lexer": "ipython3",
   "version": "3.12.0"
  },
  "orig_nbformat": 4
 },
 "nbformat": 4,
 "nbformat_minor": 2
}
